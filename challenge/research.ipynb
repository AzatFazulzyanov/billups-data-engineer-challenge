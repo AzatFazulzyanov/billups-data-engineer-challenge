{
 "cells": [
  {
   "cell_type": "markdown",
   "id": "b3b415a4",
   "metadata": {
    "pycharm": {
     "name": "#%% md\n"
    }
   },
   "source": [
    "# Billups challenge"
   ]
  },
  {
   "cell_type": "markdown",
   "id": "929b1713",
   "metadata": {
    "pycharm": {
     "name": "#%% md\n"
    }
   },
   "source": [
    "## Setup Spark"
   ]
  },
  {
   "cell_type": "code",
   "execution_count": 1,
   "id": "db219a2a",
   "metadata": {
    "pycharm": {
     "name": "#%%\n"
    }
   },
   "outputs": [
    {
     "name": "stderr",
     "output_type": "stream",
     "text": [
      "Setting default log level to \"WARN\".\n",
      "To adjust logging level use sc.setLogLevel(newLevel). For SparkR, use setLogLevel(newLevel).\n"
     ]
    },
    {
     "name": "stdout",
     "output_type": "stream",
     "text": [
      "22/08/23 03:48:21 WARN NativeCodeLoader: Unable to load native-hadoop library for your platform... using builtin-java classes where applicable\n"
     ]
    }
   ],
   "source": [
    "from pyspark.sql import SparkSession\n",
    "\n",
    "\n",
    "\n",
    "def create_spark_session():\n",
    "    spark = SparkSession.builder.master(\n",
    "        \"local[*]\"\n",
    "    ).appName(\n",
    "        'Billups Challenge Task'\n",
    "    ).config(\n",
    "        \"spark.driver.memory\",\n",
    "        \"8g\"\n",
    "    ).getOrCreate()\n",
    "\n",
    "    return spark\n",
    "\n",
    "spark = create_spark_session()"
   ]
  },
  {
   "cell_type": "markdown",
   "id": "9151d9fd",
   "metadata": {
    "pycharm": {
     "name": "#%% md\n"
    }
   },
   "source": [
    "## Read  and clean the data"
   ]
  },
  {
   "cell_type": "code",
   "execution_count": 2,
   "id": "b7a7b703",
   "metadata": {
    "pycharm": {
     "name": "#%%\n"
    }
   },
   "outputs": [
    {
     "name": "stderr",
     "output_type": "stream",
     "text": [
      "                                                                                \r"
     ]
    },
    {
     "name": "stdout",
     "output_type": "stream",
     "text": [
      "+---------------+---------------+-------+------------+--------+--------------------+---------------+---------+---------------+-------------------+--------+------------+\n",
      "|authorized_flag|    customer_id|city_id|installments|category|merchant_category_id|    merchant_id|month_lag|purchase_amount|      purchase_date|state_id|subsector_id|\n",
      "+---------------+---------------+-------+------------+--------+--------------------+---------------+---------+---------------+-------------------+--------+------------+\n",
      "|              N|C_ID_2730b57487|     63|           3|       C|                 456|M_ID_fe83cec110|       -9|    -0.05568825|2017-05-19 16:01:59|       9|          21|\n",
      "|              Y|C_ID_95429da153|     38|           3|       C|                 884|M_ID_9f11c207c1|       -2|    -0.52166038|2017-12-07 22:33:34|       7|          27|\n",
      "|              Y|C_ID_cdc7680c7f|    160|           1|       B|                 278|M_ID_ac78c7d82a|       -3|    -0.47319988|2017-11-17 00:00:00|      21|          37|\n",
      "|              N|C_ID_2858441b12|    291|           0|       A|                 360|M_ID_463d994b45|       -5|    -0.32616547|2017-09-07 02:16:40|       9|          34|\n",
      "|              Y|C_ID_79d19b3395|    276|           1|       B|                 705|M_ID_a3895ee34e|       -8|    -0.73789189|2017-06-21 12:12:14|       9|          33|\n",
      "|              Y|C_ID_cc549091ea|     17|           1|       B|                 454|M_ID_db0ab6210f|       -2|    -0.72526962|2017-12-09 16:48:07|      22|          39|\n",
      "|              Y|C_ID_606e9a9a85|    212|           0|       A|                 705|M_ID_356e03f5c6|        0|    -0.69281235|2018-02-01 20:06:59|       4|          33|\n",
      "|              Y|C_ID_b3a219eaf6|     97|           1|       B|                 278|M_ID_ffeed27418|       -3|    -0.70295525|2017-11-30 15:57:59|       3|          37|\n",
      "|              Y|C_ID_ccf48edbb3|      2|           1|       B|                 307|M_ID_20a53d9145|       -7|    -0.59664268|2017-07-31 19:58:02|      11|          19|\n",
      "|              Y|C_ID_02ba1e1626|     69|           1|       B|                 879|M_ID_00a6ca8a8a|       -2|    -0.68680175|2017-12-08 11:07:19|       9|          29|\n",
      "|              Y|C_ID_e9fed978cb|     38|           0|       A|                 367|M_ID_b86a4165d1|       -4|    -0.68242903|2017-10-12 00:29:08|       7|          16|\n",
      "|              Y|C_ID_c0ff6dd53b|     69|           0|       A|                  80|M_ID_5ba019a379|      -12|    -0.71535212|2017-02-16 14:04:31|       9|          37|\n",
      "|              Y|C_ID_062e79ad73|    209|           0|       A|                 705|M_ID_5a77e8f1b8|        0|    -0.65012203|2018-01-19 13:36:52|       9|          33|\n",
      "|              Y|C_ID_d77cc6d9c5|     69|           0|       A|                 511|M_ID_00a6ca8a8a|      -12|    -0.71234682|2017-02-24 19:15:11|       9|           7|\n",
      "|              Y|C_ID_f515f5d5d2|    233|           0|       A|                 278|M_ID_7e56e14b5c|      -10|    -0.73939454|2017-04-03 16:46:31|       9|          37|\n",
      "|              Y|C_ID_0bea5ed0cd|     64|           0|       A|                 278|M_ID_24e38e7820|       -1|     0.17106181|2018-01-07 17:54:54|      15|          37|\n",
      "|              Y|C_ID_f9fe4a7f76|     19|           0|       A|                 705|M_ID_d6977748bc|      -10|    -0.66160229|2017-04-24 20:15:08|       9|          33|\n",
      "|              Y|C_ID_a50a2cd27d|    275|           1|       B|                 705|M_ID_26fbcac46a|       -1|    -0.73203155|2018-01-03 17:58:19|      15|          33|\n",
      "|              Y|C_ID_f99aec3b64|     17|           1|    null|                 307|M_ID_d76b8a2c08|       -1|    -0.58544793|2017-11-28 00:00:00|      22|          19|\n",
      "|              Y|C_ID_e0a8bda7c4|    302|           0|       A|                 307|M_ID_eebbe3005b|       -9|    -0.68678672|2017-05-08 10:54:26|       7|          19|\n",
      "+---------------+---------------+-------+------------+--------+--------------------+---------------+---------+---------------+-------------------+--------+------------+\n",
      "only showing top 20 rows\n",
      "\n"
     ]
    }
   ],
   "source": [
    "historical_transactions = spark.read.parquet(\"sample_data/historical_transactions.parquet\")\n",
    "historical_transactions.show()"
   ]
  },
  {
   "cell_type": "code",
   "execution_count": 3,
   "id": "988d0d4d",
   "metadata": {
    "pycharm": {
     "name": "#%%\n"
    }
   },
   "outputs": [
    {
     "name": "stdout",
     "output_type": "stream",
     "text": [
      "+---------------+---------------+-------+------------+--------+--------------------+---------------+---------+---------------+-------------------+--------+------------+\n",
      "|authorized_flag|    customer_id|city_id|installments|category|merchant_category_id|    merchant_id|month_lag|purchase_amount|      purchase_date|state_id|subsector_id|\n",
      "+---------------+---------------+-------+------------+--------+--------------------+---------------+---------+---------------+-------------------+--------+------------+\n",
      "|              N|C_ID_2730b57487|     63|           3|       C|                 456|M_ID_fe83cec110|       -9|    -0.05568825|2017-05-19 16:01:59|       9|          21|\n",
      "|              Y|C_ID_95429da153|     38|           3|       C|                 884|M_ID_9f11c207c1|       -2|    -0.52166038|2017-12-07 22:33:34|       7|          27|\n",
      "|              Y|C_ID_cdc7680c7f|    160|           1|       B|                 278|M_ID_ac78c7d82a|       -3|    -0.47319988|2017-11-17 00:00:00|      21|          37|\n",
      "|              N|C_ID_2858441b12|    291|           0|       A|                 360|M_ID_463d994b45|       -5|    -0.32616547|2017-09-07 02:16:40|       9|          34|\n",
      "|              Y|C_ID_79d19b3395|    276|           1|       B|                 705|M_ID_a3895ee34e|       -8|    -0.73789189|2017-06-21 12:12:14|       9|          33|\n",
      "|              Y|C_ID_cc549091ea|     17|           1|       B|                 454|M_ID_db0ab6210f|       -2|    -0.72526962|2017-12-09 16:48:07|      22|          39|\n",
      "|              Y|C_ID_606e9a9a85|    212|           0|       A|                 705|M_ID_356e03f5c6|        0|    -0.69281235|2018-02-01 20:06:59|       4|          33|\n",
      "|              Y|C_ID_b3a219eaf6|     97|           1|       B|                 278|M_ID_ffeed27418|       -3|    -0.70295525|2017-11-30 15:57:59|       3|          37|\n",
      "|              Y|C_ID_ccf48edbb3|      2|           1|       B|                 307|M_ID_20a53d9145|       -7|    -0.59664268|2017-07-31 19:58:02|      11|          19|\n",
      "|              Y|C_ID_02ba1e1626|     69|           1|       B|                 879|M_ID_00a6ca8a8a|       -2|    -0.68680175|2017-12-08 11:07:19|       9|          29|\n",
      "|              Y|C_ID_e9fed978cb|     38|           0|       A|                 367|M_ID_b86a4165d1|       -4|    -0.68242903|2017-10-12 00:29:08|       7|          16|\n",
      "|              Y|C_ID_c0ff6dd53b|     69|           0|       A|                  80|M_ID_5ba019a379|      -12|    -0.71535212|2017-02-16 14:04:31|       9|          37|\n",
      "|              Y|C_ID_062e79ad73|    209|           0|       A|                 705|M_ID_5a77e8f1b8|        0|    -0.65012203|2018-01-19 13:36:52|       9|          33|\n",
      "|              Y|C_ID_d77cc6d9c5|     69|           0|       A|                 511|M_ID_00a6ca8a8a|      -12|    -0.71234682|2017-02-24 19:15:11|       9|           7|\n",
      "|              Y|C_ID_f515f5d5d2|    233|           0|       A|                 278|M_ID_7e56e14b5c|      -10|    -0.73939454|2017-04-03 16:46:31|       9|          37|\n",
      "|              Y|C_ID_0bea5ed0cd|     64|           0|       A|                 278|M_ID_24e38e7820|       -1|     0.17106181|2018-01-07 17:54:54|      15|          37|\n",
      "|              Y|C_ID_f9fe4a7f76|     19|           0|       A|                 705|M_ID_d6977748bc|      -10|    -0.66160229|2017-04-24 20:15:08|       9|          33|\n",
      "|              Y|C_ID_a50a2cd27d|    275|           1|       B|                 705|M_ID_26fbcac46a|       -1|    -0.73203155|2018-01-03 17:58:19|      15|          33|\n",
      "|              Y|C_ID_f99aec3b64|     17|           1|    null|                 307|M_ID_d76b8a2c08|       -1|    -0.58544793|2017-11-28 00:00:00|      22|          19|\n",
      "|              Y|C_ID_e0a8bda7c4|    302|           0|       A|                 307|M_ID_eebbe3005b|       -9|    -0.68678672|2017-05-08 10:54:26|       7|          19|\n",
      "+---------------+---------------+-------+------------+--------+--------------------+---------------+---------+---------------+-------------------+--------+------------+\n",
      "only showing top 20 rows\n",
      "\n"
     ]
    }
   ],
   "source": [
    "merchants = spark.read.format('csv').options(header=\"true\").load('sample_data/merchants.csv')\n",
    "merchants.show()\n"
   ]
  },
  {
   "cell_type": "markdown",
   "id": "9066595d",
   "metadata": {
    "pycharm": {
     "name": "#%% md\n"
    }
   },
   "source": [
    "##### looks simular to historical transactions..."
   ]
  },
  {
   "cell_type": "code",
   "execution_count": 4,
   "id": "43c2e3d6",
   "metadata": {
    "pycharm": {
     "name": "#%%\n"
    }
   },
   "outputs": [
    {
     "name": "stderr",
     "output_type": "stream",
     "text": [
      "[Stage 16:====================================================>   (16 + 1) / 17]\r"
     ]
    },
    {
     "name": "stdout",
     "output_type": "stream",
     "text": [
      "True\n"
     ]
    },
    {
     "name": "stderr",
     "output_type": "stream",
     "text": [
      "\r",
      "                                                                                \r"
     ]
    }
   ],
   "source": [
    "merchants = spark.read.format('csv').options(header=\"true\").schema(historical_transactions.schema).load('sample_data/merchants.csv')\n",
    "\n",
    "print(historical_transactions.subtract(merchants).count() == merchants.subtract(historical_transactions).count() == 0)\n",
    "# in our case we can check on driver, datasets are pretty small\n",
    "# historical_transactions.collect() == merchants.collect()\n"
   ]
  },
  {
   "cell_type": "markdown",
   "id": "66367419",
   "metadata": {
    "pycharm": {
     "name": "#%% md\n"
    }
   },
   "source": [
    "##### so datasets are same and we will use historical_transactions only"
   ]
  },
  {
   "cell_type": "code",
   "execution_count": 5,
   "id": "f43444d2",
   "metadata": {
    "pycharm": {
     "name": "#%%\n"
    }
   },
   "outputs": [],
   "source": [
    "historical_transactions = historical_transactions.cache()"
   ]
  },
  {
   "cell_type": "code",
   "execution_count": 6,
   "id": "de29d2ac",
   "metadata": {
    "pycharm": {
     "name": "#%%\n"
    }
   },
   "outputs": [
    {
     "name": "stderr",
     "output_type": "stream",
     "text": [
      "\r",
      "[Stage 19:==================================================>       (7 + 1) / 8]\r"
     ]
    },
    {
     "name": "stdout",
     "output_type": "stream",
     "text": [
      "+-------+-------------------+\n",
      "|summary|    purchase_amount|\n",
      "+-------+-------------------+\n",
      "|  count|            7274367|\n",
      "|   mean|-0.5843336382794599|\n",
      "| stddev|0.43351548756163666|\n",
      "|    min|         -0.7469078|\n",
      "|    max|         9.99728856|\n",
      "+-------+-------------------+\n",
      "\n"
     ]
    },
    {
     "name": "stderr",
     "output_type": "stream",
     "text": [
      "\r",
      "                                                                                \r"
     ]
    }
   ],
   "source": [
    "historical_transactions.describe(['purchase_amount']).show()\n",
    "# negative amount"
   ]
  },
  {
   "cell_type": "code",
   "execution_count": 7,
   "id": "c0b0d2fb",
   "metadata": {
    "pycharm": {
     "name": "#%%\n"
    }
   },
   "outputs": [],
   "source": [
    "from pyspark.sql import functions as F\n",
    "\n",
    "historical_transactions = historical_transactions.withColumn(\n",
    "    # arguable suggestion, it looks simular to some logarithmic scale, but at least now it became positive :) \n",
    "    'positive_purchase', F.col(\"purchase_amount\") + 1\n",
    ")\n"
   ]
  },
  {
   "cell_type": "markdown",
   "id": "4208f93f",
   "metadata": {
    "pycharm": {
     "name": "#%% md\n"
    }
   },
   "source": [
    "## 1. The top 5 merchants by sales in each city, in each month"
   ]
  },
  {
   "cell_type": "code",
   "execution_count": 8,
   "id": "84b99d91",
   "metadata": {
    "pycharm": {
     "name": "#%%\n"
    }
   },
   "outputs": [
    {
     "name": "stderr",
     "output_type": "stream",
     "text": [
      "\r",
      "[Stage 22:==================================================>       (7 + 1) / 8]\r"
     ]
    },
    {
     "name": "stdout",
     "output_type": "stream",
     "text": [
      "+--------+---------------+------+------------------+-------------+\n",
      "|   Month|     merchantId|cityId|        saleAmount|numberOfSales|\n",
      "+--------+---------------+------+------------------+-------------+\n",
      "|Apr 2017|M_ID_349f038eea|     2|        9.77860203|           14|\n",
      "|Apr 2017|M_ID_8791980f16|     2| 6.170373920000001|           11|\n",
      "|Apr 2017|M_ID_34f2fcb458|     2|5.3071863299999995|            4|\n",
      "|Apr 2017|M_ID_a04bff97c8|     2|        4.11490574|            1|\n",
      "|Apr 2017|M_ID_2720229b07|     2|        3.71118006|           11|\n",
      "|Apr 2017|M_ID_ae83af31af|     8|20.340697100000003|           44|\n",
      "|Apr 2017|M_ID_ae0de9385a|     8|15.230343069999996|           40|\n",
      "|Apr 2017|M_ID_61f59b165b|     8|15.224228940000001|           20|\n",
      "|Apr 2017|M_ID_3d1a48e71e|     8|       13.33592666|           49|\n",
      "|Apr 2017|M_ID_12843094d6|     8|       11.45171563|           39|\n",
      "|Apr 2017|M_ID_48257bb851|    17| 174.0177576099998|          574|\n",
      "|Apr 2017|M_ID_26d4fadb60|    17|129.79474337999983|          454|\n",
      "|Apr 2017|M_ID_f416f2710c|    17|126.78491830000004|          342|\n",
      "|Apr 2017|M_ID_0b53b8c009|    17|102.07046012999999|          261|\n",
      "|Apr 2017|M_ID_af6a89f10d|    17| 84.42213774999999|          126|\n",
      "|Apr 2017|M_ID_d855771cd9|    19|209.18917289999982|          621|\n",
      "|Apr 2017|M_ID_b98db225f5|    19|197.19725203000007|          624|\n",
      "|Apr 2017|M_ID_98b342c0e3|    19|151.62328061000005|          483|\n",
      "|Apr 2017|M_ID_7c5e93af2f|    19|      114.26053973|          332|\n",
      "|Apr 2017|M_ID_d8e0d42e4b|    19| 86.23031746999999|          298|\n",
      "+--------+---------------+------+------------------+-------------+\n",
      "only showing top 20 rows\n",
      "\n"
     ]
    },
    {
     "name": "stderr",
     "output_type": "stream",
     "text": [
      "\r",
      "                                                                                \r"
     ]
    }
   ],
   "source": [
    "from pyspark.sql import functions as F\n",
    "from pyspark.sql.window import Window\n",
    "\n",
    "historical_transactions.withColumn(\n",
    "    'Month', \n",
    "    F.date_format(F.col(\"purchase_date\"), \"MMM yyyy\")\n",
    ").groupby(\n",
    "    'Month', \"city_id\", \"merchant_id\"\n",
    ").agg(\n",
    "    F.sum('positive_purchase').alias(\"saleAmount\"), # to integer?\n",
    "    F.count(F.lit(1)).alias(\"numberOfSales\")\n",
    ").withColumn(\n",
    "    \"merchant_rank\",\n",
    "    F.row_number().over(\n",
    "        Window.partitionBy(\n",
    "            \"Month\", \"city_id\"\n",
    "        ).orderBy(\n",
    "            F.col(\"saleAmount\").desc()\n",
    "        )\n",
    "    )\n",
    ").where(\n",
    "    F.col(\"merchant_rank\") <= 5\n",
    ").select(\n",
    "    \"Month\", \n",
    "    F.col(\"merchant_id\").alias(\"merchantId\"),\n",
    "    F.col(\"city_id\").alias(\"cityId\"),\n",
    "    \"saleAmount\",\n",
    "    \"numberOfSales\"\n",
    ").show()"
   ]
  },
  {
   "cell_type": "markdown",
   "id": "2410d9e1",
   "metadata": {
    "pycharm": {
     "name": "#%% md\n"
    }
   },
   "source": [
    "## 2. The average sale amount of each merchant in each state"
   ]
  },
  {
   "cell_type": "code",
   "execution_count": 9,
   "id": "b6a87b6b",
   "metadata": {
    "pycharm": {
     "name": "#%%\n"
    }
   },
   "outputs": [
    {
     "name": "stderr",
     "output_type": "stream",
     "text": [
      "\r",
      "[Stage 28:==================================================>       (7 + 1) / 8]\r"
     ]
    },
    {
     "name": "stdout",
     "output_type": "stream",
     "text": [
      "+---------------+-------------------+-------+\n",
      "|     merchantId|          avgAmount|stateId|\n",
      "+---------------+-------------------+-------+\n",
      "|M_ID_ddfd5234bb| 0.3670768831168832|      4|\n",
      "|M_ID_894b777cc9| 0.3238014593999998|      9|\n",
      "|M_ID_dfbb556114| 0.3835793391176471|     15|\n",
      "|M_ID_5f4863e3d5| 0.2895869300840335|      1|\n",
      "|M_ID_df6d3065f3| 0.3698593816552892|     16|\n",
      "|M_ID_d7eeaa006a|  0.280402174047619|     19|\n",
      "|M_ID_40df701416| 0.7433209137815124|     16|\n",
      "|M_ID_826fb643fc| 0.3574469740579711|      7|\n",
      "|M_ID_00110f730e|       0.5004784768|     15|\n",
      "|M_ID_e9240f6448| 0.3384881701741294|     19|\n",
      "|M_ID_fee99f4a54|        0.309441625|      2|\n",
      "|M_ID_722c5dd184|0.31660881424242415|     15|\n",
      "|M_ID_c0744e8f37|0.32202561924528306|     20|\n",
      "|M_ID_b1a369bf52|        0.298678885|      7|\n",
      "|M_ID_48ac0f3e32| 0.6396162504705881|     16|\n",
      "|M_ID_170ad00a9c| 0.3704056037223587|     22|\n",
      "|M_ID_412a00d1f8|0.26550663953618003|     21|\n",
      "|M_ID_fc0f7b1282|0.44591240365853657|     13|\n",
      "|M_ID_87afdfa535|0.46645289433333337|      4|\n",
      "|M_ID_d8b87b356f| 0.5265747199999999|      5|\n",
      "+---------------+-------------------+-------+\n",
      "only showing top 20 rows\n",
      "\n"
     ]
    },
    {
     "name": "stderr",
     "output_type": "stream",
     "text": [
      "\r",
      "                                                                                \r"
     ]
    }
   ],
   "source": [
    "historical_transactions.groupBy(\n",
    "    \"merchant_id\",\n",
    "    \"state_id\"\n",
    ").agg(\n",
    "    F.mean(\"positive_purchase\").alias(\"avgAmount\")\n",
    ").select(\n",
    "    F.col(\"merchant_id\").alias(\"merchantId\"),\n",
    "    \"avgAmount\",\n",
    "    F.col(\"state_id\").alias(\"stateId\")\n",
    ").show()"
   ]
  },
  {
   "cell_type": "markdown",
   "id": "1f6a71fc",
   "metadata": {
    "pycharm": {
     "name": "#%% md\n"
    }
   },
   "source": [
    "## 3. Top 3 hours with the highest amount of sales, by product category"
   ]
  },
  {
   "cell_type": "code",
   "execution_count": 10,
   "id": "2b133ae1",
   "metadata": {
    "pycharm": {
     "name": "#%%\n"
    }
   },
   "outputs": [
    {
     "name": "stderr",
     "output_type": "stream",
     "text": [
      "\r",
      "[Stage 31:==================================================>       (7 + 1) / 8]\r"
     ]
    },
    {
     "name": "stdout",
     "output_type": "stream",
     "text": [
      "+----------+----+\n",
      "|categoryId|hour|\n",
      "+----------+----+\n",
      "|      null|0000|\n",
      "|      null|1300|\n",
      "|      null|1400|\n",
      "|         A|1200|\n",
      "|         A|1300|\n",
      "|         A|1700|\n",
      "|         B|1300|\n",
      "|         B|1400|\n",
      "|         B|1500|\n",
      "|         C|1700|\n",
      "|         C|1600|\n",
      "|         C|1500|\n",
      "+----------+----+\n",
      "\n"
     ]
    },
    {
     "name": "stderr",
     "output_type": "stream",
     "text": [
      "\r",
      "                                                                                \r"
     ]
    }
   ],
   "source": [
    "historical_transactions.withColumn(\n",
    "    \"hour\",\n",
    "    F.hour(\"purchase_date\")\n",
    ").withColumn(\n",
    "    \"hour\",\n",
    "    F.concat(F.format_string(\"%02d\", \"hour\"), F.lit(\"00\"))\n",
    ").groupBy(\n",
    "    \"hour\",\n",
    "    \"category\"\n",
    ").agg(\n",
    "    F.sum(\"positive_purchase\").alias(\"sales\")\n",
    ").withColumn(\n",
    "    \"rank\",\n",
    "    F.row_number().over(\n",
    "        Window.partitionBy(\n",
    "            \"category\"\n",
    "        ).orderBy(\n",
    "            F.col(\"sales\").desc()\n",
    "        )\n",
    "    )\n",
    ").where(\n",
    "    F.col(\"rank\") <= 3\n",
    ").select(\n",
    "    F.col(\"category\").alias(\"categoryId\"),\n",
    "    \"hour\"\n",
    ").show()\n",
    "\n",
    "# maybe filter out nulls?"
   ]
  },
  {
   "cell_type": "markdown",
   "id": "488a3337",
   "metadata": {
    "pycharm": {
     "name": "#%% md\n"
    }
   },
   "source": [
    "## 4. In what cities are the most popular merchants located? Is there a correlation between where location(city id) and the category the merchant is in?"
   ]
  },
  {
   "cell_type": "code",
   "execution_count": 11,
   "id": "54c9c15e",
   "metadata": {
    "pycharm": {
     "name": "#%%\n"
    }
   },
   "outputs": [
    {
     "name": "stdout",
     "output_type": "stream",
     "text": [
      "22/08/23 03:49:38 WARN WindowExec: No Partition Defined for Window operation! Moving all data to a single partition, this can cause serious performance degradation.\n",
      "22/08/23 03:49:38 WARN WindowExec: No Partition Defined for Window operation! Moving all data to a single partition, this can cause serious performance degradation.\n",
      "22/08/23 03:49:38 WARN WindowExec: No Partition Defined for Window operation! Moving all data to a single partition, this can cause serious performance degradation.\n"
     ]
    },
    {
     "name": "stderr",
     "output_type": "stream",
     "text": [
      "\r",
      "[Stage 37:==================================================>       (7 + 1) / 8]\r"
     ]
    },
    {
     "name": "stdout",
     "output_type": "stream",
     "text": [
      "22/08/23 03:49:48 WARN WindowExec: No Partition Defined for Window operation! Moving all data to a single partition, this can cause serious performance degradation.\n",
      "22/08/23 03:49:48 WARN WindowExec: No Partition Defined for Window operation! Moving all data to a single partition, this can cause serious performance degradation.\n",
      "22/08/23 03:49:48 WARN WindowExec: No Partition Defined for Window operation! Moving all data to a single partition, this can cause serious performance degradation.\n",
      "22/08/23 03:49:48 WARN WindowExec: No Partition Defined for Window operation! Moving all data to a single partition, this can cause serious performance degradation.\n",
      "+---------------+--------------------+----------+-------------------------------+---------------+\n",
      "|    merchant_id|              cities|categories|merchant_unique_customers_count|popularity_rank|\n",
      "+---------------+--------------------+----------+-------------------------------+---------------+\n",
      "|M_ID_00a6ca8a8a|             [1, 69]| [C, B, A]|                         125855|              1|\n",
      "|M_ID_9139332ccc|            [291, 1]| [C, B, A]|                          37531|              2|\n",
      "|M_ID_50f575c681|                [69]| [C, B, A]|                          30666|              3|\n",
      "|           null|[306, 277, 256, 2...| [C, B, A]|                          26453|              4|\n",
      "|M_ID_fc7d7969c3|                 [1]|    [B, A]|                          18916|              5|\n",
      "|M_ID_e5374dabc0|             [1, 69]|    [C, B]|                          16242|              6|\n",
      "|M_ID_5ba019a379|[233, 60, 183, 1,...| [C, B, A]|                          16234|              7|\n",
      "|M_ID_cd2c0b07e9|                [69]| [C, B, A]|                          14012|              8|\n",
      "|M_ID_f86439cec0|[233, 1, 53, 155,...| [C, B, A]|                          12086|              9|\n",
      "|M_ID_98b342c0e3|[233, 183, 83, 32...| [C, B, A]|                          12047|             10|\n",
      "+---------------+--------------------+----------+-------------------------------+---------------+\n",
      "\n"
     ]
    },
    {
     "name": "stderr",
     "output_type": "stream",
     "text": [
      "\r",
      "                                                                                \r"
     ]
    }
   ],
   "source": [
    "# what is definition of merchant popularity? is it the amount of sale? or number of sales? \n",
    "# or number of distinct customers? let me use the last one \n",
    "\n",
    "\n",
    "# most of merchant are working in few cities, so we cant say that merchants are located somewhere \n",
    "# without additional info.\n",
    "popular_merchants = historical_transactions.groupBy(\n",
    "    \"merchant_id\"\n",
    ").agg(\n",
    "    F.collect_set(\"city_id\").alias(\"cities\"),\n",
    "    F.collect_set(\"category\").alias(\"categories\"),\n",
    "    # or use F.approx_count_distinct to avoid possible OOM\n",
    "    F.size(F.collect_set(\"customer_id\")).alias(\"merchant_unique_customers_count\")\n",
    ").withColumn(\n",
    "    \"popularity_rank\",\n",
    "    # dataframe has size of merchants count, dont expect to be too large to OOM\n",
    "    F.row_number().over(\n",
    "        Window.orderBy(\n",
    "            F.col(\"merchant_unique_customers_count\").desc()\n",
    "        )\n",
    "    )\n",
    "# take 10 most popular merchants\n",
    ").where(\n",
    "    F.col(\"popularity_rank\") <= 10\n",
    ")\n",
    "\n",
    "\n",
    "\n",
    "\n",
    "popular_merchants.show()"
   ]
  },
  {
   "cell_type": "code",
   "execution_count": 12,
   "id": "6092b58f",
   "metadata": {
    "pycharm": {
     "name": "#%%\n"
    }
   },
   "outputs": [
    {
     "name": "stdout",
     "output_type": "stream",
     "text": [
      "22/08/23 03:49:48 WARN WindowExec: No Partition Defined for Window operation! Moving all data to a single partition, this can cause serious performance degradation.\n",
      "22/08/23 03:49:48 WARN WindowExec: No Partition Defined for Window operation! Moving all data to a single partition, this can cause serious performance degradation.\n",
      "22/08/23 03:49:48 WARN WindowExec: No Partition Defined for Window operation! Moving all data to a single partition, this can cause serious performance degradation.\n"
     ]
    },
    {
     "name": "stderr",
     "output_type": "stream",
     "text": [
      "\r",
      "[Stage 43:==================================================>       (7 + 1) / 8]\r"
     ]
    },
    {
     "name": "stdout",
     "output_type": "stream",
     "text": [
      "22/08/23 03:49:57 WARN WindowExec: No Partition Defined for Window operation! Moving all data to a single partition, this can cause serious performance degradation.\n",
      "22/08/23 03:49:57 WARN WindowExec: No Partition Defined for Window operation! Moving all data to a single partition, this can cause serious performance degradation.\n",
      "22/08/23 03:49:57 WARN WindowExec: No Partition Defined for Window operation! Moving all data to a single partition, this can cause serious performance degradation.\n",
      "22/08/23 03:49:57 WARN WindowExec: No Partition Defined for Window operation! Moving all data to a single partition, this can cause serious performance degradation.\n"
     ]
    },
    {
     "name": "stderr",
     "output_type": "stream",
     "text": [
      "\r",
      "                                                                                \r"
     ]
    },
    {
     "data": {
      "text/plain": [
       "[(1, 8),\n",
       " (69, 8),\n",
       " (291, 5),\n",
       " (213, 4),\n",
       " (188, 4),\n",
       " (115, 4),\n",
       " (233, 4),\n",
       " (333, 4),\n",
       " (283, 4),\n",
       " (279, 4),\n",
       " (250, 4),\n",
       " (19, 4),\n",
       " (244, 4),\n",
       " (272, 4),\n",
       " (339, 4),\n",
       " (231, 4),\n",
       " (106, 3),\n",
       " (48, 3),\n",
       " (163, 3),\n",
       " (159, 3),\n",
       " (138, 3),\n",
       " (109, 3),\n",
       " (274, 3),\n",
       " (158, 3),\n",
       " (295, 3),\n",
       " (183, 3),\n",
       " (88, 3),\n",
       " (3, 3),\n",
       " (149, 3),\n",
       " (314, 3),\n",
       " (143, 3),\n",
       " (329, 3),\n",
       " (96, 3),\n",
       " (344, 3),\n",
       " (340, 3),\n",
       " (276, 3),\n",
       " (322, 3),\n",
       " (160, 3),\n",
       " (116, 3),\n",
       " (98, 2),\n",
       " (23, 2),\n",
       " (292, 2),\n",
       " (271, 2),\n",
       " (242, 2),\n",
       " (209, 2),\n",
       " (303, 2),\n",
       " (174, 2),\n",
       " (170, 2),\n",
       " (318, 2),\n",
       " (302, 2),\n",
       " (173, 2),\n",
       " (140, 2),\n",
       " (111, 2),\n",
       " (107, 2),\n",
       " (57, 2),\n",
       " (7, 2),\n",
       " (155, 2),\n",
       " (299, 2),\n",
       " (139, 2),\n",
       " (266, 2),\n",
       " (87, 2),\n",
       " (83, 2),\n",
       " (331, 2),\n",
       " (21, 2),\n",
       " (327, 2),\n",
       " (298, 2),\n",
       " (117, 2),\n",
       " (265, 2),\n",
       " (186, 2),\n",
       " (53, 2),\n",
       " (24, 2),\n",
       " (330, 2),\n",
       " (78, 2),\n",
       " (49, 2),\n",
       " (20, 2),\n",
       " (297, 2),\n",
       " (197, 2),\n",
       " (168, 2),\n",
       " (60, 2),\n",
       " (294, 2),\n",
       " (63, 2),\n",
       " (199, 2),\n",
       " (191, 2),\n",
       " (62, 2),\n",
       " (189, 2),\n",
       " (131, 2),\n",
       " (306, 1),\n",
       " (277, 1),\n",
       " (256, 1),\n",
       " (206, 1),\n",
       " (156, 1),\n",
       " (148, 1),\n",
       " (77, 1),\n",
       " (325, 1),\n",
       " (304, 1),\n",
       " (296, 1),\n",
       " (275, 1),\n",
       " (94, 1),\n",
       " (73, 1),\n",
       " (44, 1),\n",
       " (342, 1),\n",
       " (321, 1),\n",
       " (221, 1),\n",
       " (142, 1),\n",
       " (92, 1),\n",
       " (267, 1),\n",
       " (259, 1),\n",
       " (238, 1),\n",
       " (28, 1),\n",
       " (9, 1),\n",
       " (336, 1),\n",
       " (307, 1),\n",
       " (286, 1),\n",
       " (126, 1),\n",
       " (207, 1),\n",
       " (97, 1),\n",
       " (76, 1),\n",
       " (253, 1),\n",
       " (224, 1),\n",
       " (203, 1),\n",
       " (124, 1),\n",
       " (14, 1),\n",
       " (89, 1),\n",
       " (39, 1),\n",
       " (120, 1),\n",
       " (10, 1),\n",
       " (208, 1),\n",
       " (108, 1),\n",
       " (79, 1),\n",
       " (58, 1),\n",
       " (29, 1),\n",
       " (8, 1),\n",
       " (335, 1),\n",
       " (204, 1),\n",
       " (285, 1),\n",
       " (235, 1),\n",
       " (125, 1),\n",
       " (104, 1),\n",
       " (75, 1),\n",
       " (54, 1),\n",
       " (25, 1),\n",
       " (4, 1),\n",
       " (273, 1),\n",
       " (252, 1),\n",
       " (223, 1),\n",
       " (194, 1),\n",
       " (144, 1),\n",
       " (319, 1),\n",
       " (269, 1),\n",
       " (219, 1),\n",
       " (300, 1),\n",
       " (190, 1),\n",
       " (169, 1),\n",
       " (119, 1),\n",
       " (90, 1),\n",
       " (61, 1),\n",
       " (40, 1),\n",
       " (11, 1),\n",
       " (338, 1),\n",
       " (288, 1),\n",
       " (157, 1),\n",
       " (136, 1),\n",
       " (86, 1),\n",
       " (36, 1),\n",
       " (334, 1),\n",
       " (255, 1),\n",
       " (234, 1),\n",
       " (205, 1),\n",
       " (184, 1),\n",
       " (105, 1),\n",
       " (301, 1),\n",
       " (280, 1),\n",
       " (251, 1),\n",
       " (230, 1),\n",
       " (201, 1),\n",
       " (180, 1),\n",
       " (172, 1),\n",
       " (151, 1),\n",
       " (122, 1),\n",
       " (101, 1),\n",
       " (22, 1),\n",
       " (320, 1),\n",
       " (270, 1),\n",
       " (220, 1),\n",
       " (68, 1),\n",
       " (18, 1),\n",
       " (345, 1),\n",
       " (337, 1),\n",
       " (316, 1),\n",
       " (287, 1),\n",
       " (237, 1),\n",
       " (216, 1),\n",
       " (187, 1),\n",
       " (166, 1),\n",
       " (56, 1),\n",
       " (137, 1),\n",
       " (6, 1),\n",
       " (254, 1),\n",
       " (212, 1),\n",
       " (102, 1),\n",
       " (52, 1),\n",
       " (133, 1),\n",
       " (2, 1),\n",
       " (281, 1),\n",
       " (171, 1),\n",
       " (71, 1),\n",
       " (42, 1),\n",
       " (167, 1),\n",
       " (248, 1),\n",
       " (198, 1),\n",
       " (38, 1),\n",
       " (17, 1),\n",
       " (315, 1),\n",
       " (236, 1),\n",
       " (215, 1),\n",
       " (165, 1),\n",
       " (34, 1),\n",
       " (13, 1),\n",
       " (282, 1),\n",
       " (232, 1),\n",
       " (313, 1),\n",
       " (182, 1),\n",
       " (263, 1),\n",
       " (153, 1),\n",
       " (103, 1),\n",
       " (82, 1),\n",
       " (74, 1),\n",
       " (32, 1),\n",
       " (178, 1),\n",
       " (128, 1),\n",
       " (70, 1),\n",
       " (347, 1),\n",
       " (268, 1),\n",
       " (247, 1),\n",
       " (226, 1),\n",
       " (218, 1),\n",
       " (147, 1),\n",
       " (118, 1),\n",
       " (293, 1),\n",
       " (264, 1),\n",
       " (214, 1),\n",
       " (193, 1),\n",
       " (114, 1),\n",
       " (85, 1),\n",
       " (64, 1),\n",
       " (35, 1),\n",
       " (341, 1),\n",
       " (312, 1),\n",
       " (81, 1),\n",
       " (308, 1),\n",
       " (258, 1),\n",
       " (229, 1),\n",
       " (200, 1),\n",
       " (179, 1),\n",
       " (150, 1),\n",
       " (129, 1),\n",
       " (246, 1),\n",
       " (175, 1),\n",
       " (65, 1),\n",
       " (146, 1),\n",
       " (46, 1),\n",
       " (323, 1),\n",
       " (113, 1),\n",
       " (84, 1),\n",
       " (311, 1),\n",
       " (290, 1),\n",
       " (261, 1),\n",
       " (240, 1),\n",
       " (130, 1),\n",
       " (211, 1),\n",
       " (80, 1),\n",
       " (161, 1),\n",
       " (51, 1),\n",
       " (30, 1),\n",
       " (328, 1),\n",
       " (278, 1),\n",
       " (228, 1),\n",
       " (309, 1),\n",
       " (47, 1),\n",
       " (26, 1),\n",
       " (245, 1),\n",
       " (326, 1),\n",
       " (145, 1),\n",
       " (66, 1),\n",
       " (16, 1),\n",
       " (343, 1),\n",
       " (162, 1),\n",
       " (112, 1),\n",
       " (91, 1),\n",
       " (41, 1),\n",
       " (33, 1),\n",
       " (12, 1),\n",
       " (310, 1),\n",
       " (289, 1),\n",
       " (260, 1),\n",
       " (239, 1),\n",
       " (210, 1),\n",
       " (181, 1),\n",
       " (110, 1)]"
      ]
     },
     "execution_count": 12,
     "metadata": {},
     "output_type": "execute_result"
    }
   ],
   "source": [
    "# cities with number of 10 most popular merchants working there\n",
    "\n",
    "from collections import Counter\n",
    "from itertools import chain\n",
    "\n",
    "cities_lists = [row.cities for row in popular_merchants.select(\"cities\").collect()]\n",
    "Counter(chain(*cities_lists)).most_common()"
   ]
  },
  {
   "cell_type": "code",
   "execution_count": 13,
   "id": "3b6f3be9",
   "metadata": {
    "pycharm": {
     "name": "#%%\n"
    }
   },
   "outputs": [
    {
     "name": "stderr",
     "output_type": "stream",
     "text": [
      "\r",
      "[Stage 49:==================================================>       (7 + 1) / 8]\r"
     ]
    },
    {
     "name": "stdout",
     "output_type": "stream",
     "text": [
      "+-------+--------+-------------+\n",
      "|city_id|category|merchants_cnt|\n",
      "+-------+--------+-------------+\n",
      "|     69|       A|        16590|\n",
      "|     69|       B|        15468|\n",
      "|     19|       A|         9672|\n",
      "|    331|       A|         8207|\n",
      "|     19|       B|         7934|\n",
      "|    333|       A|         6772|\n",
      "|    331|       B|         6747|\n",
      "|      1|       B|         6701|\n",
      "|      1|       A|         6691|\n",
      "|    158|       A|         6663|\n",
      "|    158|       B|         6131|\n",
      "|    333|       B|         5447|\n",
      "|     69|       C|         5325|\n",
      "|     17|       A|         5144|\n",
      "|     57|       A|         4518|\n",
      "|     88|       A|         4443|\n",
      "|     17|       B|         4302|\n",
      "|    143|       A|         4059|\n",
      "|    117|       A|         4058|\n",
      "|     88|       B|         3817|\n",
      "+-------+--------+-------------+\n",
      "only showing top 20 rows\n",
      "\n"
     ]
    },
    {
     "name": "stderr",
     "output_type": "stream",
     "text": [
      "\r",
      "                                                                                \r"
     ]
    }
   ],
   "source": [
    "# this may be computed in different ways per (city, category) pair:\n",
    "# a) merchants count\n",
    "# b) sales count\n",
    "# c) sales amount\n",
    "# etc.\n",
    "\n",
    "historical_transactions.select(\n",
    "    \"merchant_id\",\n",
    "    \"city_id\",\n",
    "    \"category\"\n",
    ").distinct(\n",
    ").groupBy(\n",
    "    \"city_id\",\n",
    "    \"category\"\n",
    ").agg(\n",
    "    F.count(F.lit(1)).alias(\"merchants_cnt\")\n",
    ").orderBy(\n",
    "    F.col(\"merchants_cnt\").desc()\n",
    ").show()"
   ]
  },
  {
   "cell_type": "markdown",
   "id": "c4bb3a13",
   "metadata": {
    "pycharm": {
     "name": "#%% md\n"
    }
   },
   "source": [
    "## 5. If a new merchant were to want to set up shop in a city:\n",
    "a. Where would you advise them go to and why?\n",
    "\n",
    "b. Which categories of products would you recommend they sell\n",
    "\n",
    "c. What time of year would you advise them to start\n",
    "\n",
    "d. When would you recommend they open and close\n",
    "\n",
    "e. Would you advice them to accept payment in installments, assume a credit\n",
    "default rate of 22.9% per month (**did not understand what is wanted here**)\n"
   ]
  },
  {
   "cell_type": "code",
   "execution_count": 14,
   "id": "70e4ff9e",
   "metadata": {
    "pycharm": {
     "name": "#%%\n"
    }
   },
   "outputs": [
    {
     "name": "stderr",
     "output_type": "stream",
     "text": [
      "[Stage 60:>                                                         (0 + 8) / 9]\r"
     ]
    },
    {
     "name": "stdout",
     "output_type": "stream",
     "text": [
      "+-------+--------+-----+---------+----------+---------------------+\n",
      "|city_id|category|Month|open_hour|close_hour|purchase_per_merchant|\n",
      "+-------+--------+-----+---------+----------+---------------------+\n",
      "|     69|       C|  Dec|        0|        11|   205.64238200999995|\n",
      "|     69|       C|  Dec|        0|        16|   186.81802251000008|\n",
      "|     69|       C|  Dec|        0|        15|   172.02714916000005|\n",
      "|     69|       A|  Nov|        0|        12|   164.89174890000027|\n",
      "|     69|       C|  Jan|        0|        11|   164.63029231000004|\n",
      "|     69|       C|  Nov|        0|        19|   160.14326141999996|\n",
      "|     69|       C|  Dec|        0|        18|   152.88978985000006|\n",
      "|     69|       C|  Jan|        0|        13|   151.53567985999996|\n",
      "|     69|       C|  Dec|        0|        13|         143.38040711|\n",
      "|     69|       C|  Oct|        0|        18|   142.84326542999997|\n",
      "|     69|       C|  Sep|        0|        13|   132.69275525000003|\n",
      "|     69|       C|  Jan|        0|        12|   129.90097995999997|\n",
      "|     69|       C|  Oct|        0|        19|   127.22293664999997|\n",
      "|     69|       C|  Nov|        0|        14|   126.71120310000002|\n",
      "|     69|       C|  Feb|        0|        14|   123.23706022999998|\n",
      "|     69|       C|  Oct|        0|        13|   122.78277937000001|\n",
      "|     69|       C|  Sep|        0|        14|   121.20366160999993|\n",
      "|      1|       B|  Aug|        8|         6|   118.38117076999917|\n",
      "|     69|       C|  Oct|        0|        20|   115.42894037999997|\n",
      "|     69|       C|  Jan|        0|        14|   114.90676846999997|\n",
      "+-------+--------+-----+---------+----------+---------------------+\n",
      "only showing top 20 rows\n",
      "\n"
     ]
    },
    {
     "name": "stderr",
     "output_type": "stream",
     "text": [
      "\r",
      "                                                                                \r"
     ]
    }
   ],
   "source": [
    "\n",
    "# try to guess open/close hours\n",
    "historical_transactions.withColumn(\n",
    "    \"open_hour\",\n",
    "    F.hour(\n",
    "        F.first(\"purchase_date\").over(\n",
    "            Window.partitionBy(\n",
    "                \"merchant_id\", \"city_id\"\n",
    "            ).orderBy(\"purchase_date\")\n",
    "        )\n",
    "    )\n",
    ").withColumn(\n",
    "    \"close_hour\",\n",
    "    F.hour(\n",
    "        F.last(\"purchase_date\").over(\n",
    "            Window.partitionBy(\n",
    "                \"merchant_id\", \"city_id\"\n",
    "            ).orderBy(\"purchase_date\")\n",
    "        )\n",
    "    )\n",
    ").groupBy(\n",
    "    \"city_id\",\n",
    "    \"category\",\n",
    "    F.date_format(F.col(\"purchase_date\"), \"MMM\").alias(\"Month\"),\n",
    "    \"open_hour\",\n",
    "    \"close_hour\",\n",
    ").agg(\n",
    "    # metric, may be different depending on the exact goal\n",
    "    (F.sum('positive_purchase') / F.size(F.collect_set(\"merchant_id\"))).alias(\"purchase_per_merchant\")\n",
    ").orderBy(F.col(\"purchase_per_merchant\").desc()).show()"
   ]
  },
  {
   "cell_type": "code",
   "execution_count": null,
   "id": "71cb09df",
   "metadata": {},
   "outputs": [],
   "source": []
  }
 ],
 "metadata": {
  "kernelspec": {
   "display_name": "Python 3 (ipykernel)",
   "language": "python",
   "name": "python3"
  },
  "language_info": {
   "codemirror_mode": {
    "name": "ipython",
    "version": 3
   },
   "file_extension": ".py",
   "mimetype": "text/x-python",
   "name": "python",
   "nbconvert_exporter": "python",
   "pygments_lexer": "ipython3",
   "version": "3.8.2"
  }
 },
 "nbformat": 4,
 "nbformat_minor": 5
}
